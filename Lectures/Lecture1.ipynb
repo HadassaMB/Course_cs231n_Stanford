{
 "cells": [
  {
   "attachments": {},
   "cell_type": "markdown",
   "metadata": {},
   "source": [
    "### Lecture 1: KNN and linear classifier"
   ]
  },
  {
   "cell_type": "code",
   "execution_count": 1,
   "metadata": {},
   "outputs": [],
   "source": [
    "import numpy as np"
   ]
  },
  {
   "attachments": {},
   "cell_type": "markdown",
   "metadata": {},
   "source": [
    "##### 1) K-nearest-neighbors\n",
    "* Hyperparameters: \n",
    "     - K (number of neighbors)\n",
    "     - distance (loss function used)\n",
    "* Description: \n",
    "     - Computes label of sample based on majority vote on labels of K closest neighbors in training set, while closeness is defined according to the distance metrics chosen (L1, L2,...)\n",
    "     - Hyperparameters typically chosen using validation set/cross fold validation of training set.\n",
    "* Drawbacks: \n",
    "     - Fast for training (O(1)), slow for prediction (O(N)), we usually wants the opposite. \n",
    "     - Distance metrics on pixels is not informative - performs badly on pictures.\n",
    "     - Curse of dimensionality (we need the number of training examples to be exponential to the dimension of the problem)."
   ]
  },
  {
   "cell_type": "code",
   "execution_count": 3,
   "metadata": {},
   "outputs": [],
   "source": [
    "class KNearestNeighbor:\n",
    "    def __init__(self, K=1, loss_function='L1'):\n",
    "        self.K = K\n",
    "        self.distance = loss_function\n",
    "    def train(self, X, y):\n",
    "        self.Xtr = X\n",
    "        self.ytr = y\n",
    "    def predict(self, X):\n",
    "        y_pred = np.zeros(X.shape[0], dtype=self.ytr.dtype)\n",
    "        for i in range(X.shape[0]):\n",
    "            if self.distance == 'L1':\n",
    "                distances = np.sum(np.abs(self.Xtr - X[i,:]), axis=1)\n",
    "            elif self.distance == 'L2':\n",
    "                distances = np.sum(np.abs(self.Xtr - X[i,:])**2, axis=1)\n",
    "            else:\n",
    "                distances = np.sum(np.abs(self.Xtr - X[i,:]), axis=1)\n",
    "            min_ind = np.argpartition(distances, self.K)[:self.K]\n",
    "            y_true = np.unique(self.ytr[min_ind], return_counts=True)\n",
    "            y_pred[i] = y_true[0][np.argmax(y_true[1])]\n",
    "        return y_pred"
   ]
  },
  {
   "attachments": {},
   "cell_type": "markdown",
   "metadata": {},
   "source": [
    "Example of use:"
   ]
  },
  {
   "cell_type": "code",
   "execution_count": 6,
   "metadata": {},
   "outputs": [
    {
     "name": "stdout",
     "output_type": "stream",
     "text": [
      "['r' 'b']\n"
     ]
    }
   ],
   "source": [
    "KNN = KNearestNeighbor()\n",
    "X = np.array([[0,0,1], [0,1,0], [1,0,0]])\n",
    "y = np.array(['r', 'g', 'b'])\n",
    "X_new = [[0,0.5,1], [1,0,0]]\n",
    "KNN.train(X,y)\n",
    "print(KNN.predict(np.array(X_new)))"
   ]
  },
  {
   "attachments": {},
   "cell_type": "markdown",
   "metadata": {},
   "source": [
    "##### 2) Linear classifier\n",
    "* Description: \n",
    "     - f(x, W) = Wx + b (score function for each class). Size: #classes x 1\n",
    "     - x: sample. Size: N x 1 (need to flatten images).\n",
    "     - W: Weights matrix (updated during training). Size: #classes x N\n",
    "     - b: bias (updated during training). Size: #classes x 1\n",
    "* Drawbacks: \n",
    "     - Specific partitions not allowing the hyperplanes to correctly partition the data"
   ]
  }
 ],
 "metadata": {
  "kernelspec": {
   "display_name": "kaolin-env-kernel",
   "language": "python",
   "name": "kaolin_env"
  },
  "language_info": {
   "codemirror_mode": {
    "name": "ipython",
    "version": 3
   },
   "file_extension": ".py",
   "mimetype": "text/x-python",
   "name": "python",
   "nbconvert_exporter": "python",
   "pygments_lexer": "ipython3",
   "version": "3.8.10"
  },
  "orig_nbformat": 4
 },
 "nbformat": 4,
 "nbformat_minor": 2
}
